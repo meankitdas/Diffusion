{
 "cells": [
  {
   "cell_type": "markdown",
   "id": "bae61727",
   "metadata": {},
   "source": [
    "# Calculate the mean and variance\n",
    " Mean = sqrt(a_hat_t) + x0\n",
    " \n",
    " Variance = sqrt(1-a_hat_t) * random_noise"
   ]
  },
  {
   "cell_type": "code",
   "execution_count": 2,
   "id": "d11025d4",
   "metadata": {},
   "outputs": [
    {
     "name": "stdout",
     "output_type": "stream",
     "text": [
      "Collecting torch\n",
      "  Obtaining dependency information for torch from https://files.pythonhosted.org/packages/1e/86/477ec85bf1f122931f00a2f3889ed9322c091497415a563291ffc119dacc/torch-2.1.2-cp311-none-macosx_11_0_arm64.whl.metadata\n",
      "  Downloading torch-2.1.2-cp311-none-macosx_11_0_arm64.whl.metadata (25 kB)\n",
      "Requirement already satisfied: filelock in /Users/ankitdas/anaconda3/lib/python3.11/site-packages (from torch) (3.9.0)\n",
      "Requirement already satisfied: typing-extensions in /Users/ankitdas/anaconda3/lib/python3.11/site-packages (from torch) (4.9.0)\n",
      "Requirement already satisfied: sympy in /Users/ankitdas/anaconda3/lib/python3.11/site-packages (from torch) (1.11.1)\n",
      "Requirement already satisfied: networkx in /Users/ankitdas/anaconda3/lib/python3.11/site-packages (from torch) (3.1)\n",
      "Requirement already satisfied: jinja2 in /Users/ankitdas/anaconda3/lib/python3.11/site-packages (from torch) (3.1.2)\n",
      "Requirement already satisfied: fsspec in /Users/ankitdas/anaconda3/lib/python3.11/site-packages (from torch) (2023.4.0)\n",
      "Requirement already satisfied: MarkupSafe>=2.0 in /Users/ankitdas/anaconda3/lib/python3.11/site-packages (from jinja2->torch) (2.1.1)\n",
      "Requirement already satisfied: mpmath>=0.19 in /Users/ankitdas/anaconda3/lib/python3.11/site-packages (from sympy->torch) (1.3.0)\n",
      "Downloading torch-2.1.2-cp311-none-macosx_11_0_arm64.whl (59.6 MB)\n",
      "\u001b[2K   \u001b[38;2;114;156;31m━━━━━━━━━━━━━━━━━━━━━━━━━━━━━━━━━━━━━━━━\u001b[0m \u001b[32m59.6/59.6 MB\u001b[0m \u001b[31m13.9 MB/s\u001b[0m eta \u001b[36m0:00:00\u001b[0mm eta \u001b[36m0:00:01\u001b[0m[36m0:00:01\u001b[0m\n",
      "\u001b[?25hInstalling collected packages: torch\n",
      "Successfully installed torch-2.1.2\n",
      "Note: you may need to restart the kernel to use updated packages.\n"
     ]
    }
   ],
   "source": [
    "%pip install torch"
   ]
  },
  {
   "cell_type": "code",
   "execution_count": 3,
   "id": "c5dd7f23",
   "metadata": {},
   "outputs": [],
   "source": [
    "import torch"
   ]
  },
  {
   "cell_type": "code",
   "execution_count": 4,
   "id": "5d11f6f1",
   "metadata": {},
   "outputs": [],
   "source": [
    "x0 = torch.randn(2,3,32,32)"
   ]
  },
  {
   "cell_type": "code",
   "execution_count": 25,
   "id": "1ffe70d6",
   "metadata": {},
   "outputs": [
    {
     "data": {
      "text/plain": [
       "torch.Size([2, 3, 32, 32])"
      ]
     },
     "execution_count": 25,
     "metadata": {},
     "output_type": "execute_result"
    }
   ],
   "source": [
    "x0.size()"
   ]
  },
  {
   "cell_type": "code",
   "execution_count": 13,
   "id": "d4fa389e",
   "metadata": {},
   "outputs": [],
   "source": [
    "t = torch.tensor([1,3])"
   ]
  },
  {
   "cell_type": "code",
   "execution_count": 17,
   "id": "42b2fd59",
   "metadata": {},
   "outputs": [
    {
     "data": {
      "text/plain": [
       "torch.Size([2])"
      ]
     },
     "execution_count": 17,
     "metadata": {},
     "output_type": "execute_result"
    }
   ],
   "source": [
    "t.size()"
   ]
  },
  {
   "cell_type": "code",
   "execution_count": 10,
   "id": "9c8d22c1",
   "metadata": {
    "scrolled": true
   },
   "outputs": [],
   "source": [
    "betas = torch.tensor([0.05,0.1,0.15,0.2,0.25])"
   ]
  },
  {
   "cell_type": "code",
   "execution_count": 15,
   "id": "77e5c78d",
   "metadata": {},
   "outputs": [
    {
     "data": {
      "text/plain": [
       "tensor([0.0500, 0.1000, 0.1500, 0.2000, 0.2500])"
      ]
     },
     "execution_count": 15,
     "metadata": {},
     "output_type": "execute_result"
    }
   ],
   "source": [
    "betas"
   ]
  },
  {
   "cell_type": "code",
   "execution_count": 11,
   "id": "3b178155",
   "metadata": {},
   "outputs": [],
   "source": [
    "# betas → amount of noise that are being applied at every timestep of the diffusion process"
   ]
  },
  {
   "cell_type": "code",
   "execution_count": 12,
   "id": "7158950d",
   "metadata": {},
   "outputs": [],
   "source": [
    "alphas = 1 - betas"
   ]
  },
  {
   "cell_type": "code",
   "execution_count": 31,
   "id": "82253e60",
   "metadata": {},
   "outputs": [],
   "source": [
    "# alphas → amount of original image information that is being preserved after a diffusion process"
   ]
  },
  {
   "cell_type": "code",
   "execution_count": 16,
   "id": "80aed048",
   "metadata": {},
   "outputs": [
    {
     "data": {
      "text/plain": [
       "tensor([0.9500, 0.9000, 0.8500, 0.8000, 0.7500])"
      ]
     },
     "execution_count": 16,
     "metadata": {},
     "output_type": "execute_result"
    }
   ],
   "source": [
    "alphas"
   ]
  },
  {
   "cell_type": "code",
   "execution_count": 18,
   "id": "7a338dc4",
   "metadata": {},
   "outputs": [],
   "source": [
    "alpha_hat = torch.cumprod(alphas, axis=0)"
   ]
  },
  {
   "cell_type": "code",
   "execution_count": 19,
   "id": "08ca9c66",
   "metadata": {},
   "outputs": [
    {
     "data": {
      "text/plain": [
       "tensor([0.9500, 0.8550, 0.7268, 0.5814, 0.4360])"
      ]
     },
     "execution_count": 19,
     "metadata": {},
     "output_type": "execute_result"
    }
   ],
   "source": [
    "alpha_hat"
   ]
  },
  {
   "cell_type": "code",
   "execution_count": 20,
   "id": "e689aba6",
   "metadata": {},
   "outputs": [],
   "source": [
    "result = alpha_hat.gather(-1, t).reshape(-1,1,1,1)"
   ]
  },
  {
   "cell_type": "code",
   "execution_count": 24,
   "id": "a5042e4f",
   "metadata": {},
   "outputs": [
    {
     "data": {
      "text/plain": [
       "torch.Size([2, 1, 1, 1])"
      ]
     },
     "execution_count": 24,
     "metadata": {},
     "output_type": "execute_result"
    }
   ],
   "source": [
    "result.size()"
   ]
  },
  {
   "cell_type": "code",
   "execution_count": 27,
   "id": "6d8a39ed",
   "metadata": {},
   "outputs": [],
   "source": [
    "#result → we are reshaping the alpha_hat in the dimension of x0"
   ]
  },
  {
   "cell_type": "code",
   "execution_count": 28,
   "id": "4f6a56e5",
   "metadata": {},
   "outputs": [],
   "source": [
    "noise = torch.rand_like(x0)"
   ]
  },
  {
   "cell_type": "code",
   "execution_count": 30,
   "id": "1bb159f8",
   "metadata": {},
   "outputs": [
    {
     "data": {
      "text/plain": [
       "torch.Size([2, 3, 32, 32])"
      ]
     },
     "execution_count": 30,
     "metadata": {},
     "output_type": "execute_result"
    }
   ],
   "source": [
    "noise.size()"
   ]
  },
  {
   "cell_type": "code",
   "execution_count": 32,
   "id": "b1b7de5f",
   "metadata": {},
   "outputs": [],
   "source": [
    "# Calculation of mean\n",
    "mean = result.sqrt() + x0\n",
    "\n",
    "# Calculation of variance\n",
    "variance = torch.sqrt( 1 - result )*noise"
   ]
  },
  {
   "cell_type": "code",
   "execution_count": 35,
   "id": "4bccb14f",
   "metadata": {},
   "outputs": [],
   "source": [
    "x_t = mean + variance"
   ]
  },
  {
   "cell_type": "code",
   "execution_count": 38,
   "id": "fc6dad22",
   "metadata": {},
   "outputs": [
    {
     "data": {
      "text/plain": [
       "tensor([[[ 1.8103,  1.6472,  3.0666,  ..., -1.0779, -1.0634,  1.7593],\n",
       "         [ 1.5921,  1.9702,  0.6590,  ...,  0.8590,  0.7861,  0.5062],\n",
       "         [ 1.8802, -0.5000, -0.0795,  ...,  0.8281,  0.6196,  1.1816],\n",
       "         ...,\n",
       "         [-0.5355,  0.8707,  2.6897,  ...,  1.0464,  2.5198, -0.5387],\n",
       "         [ 1.4952,  1.3427,  0.9649,  ...,  1.5111,  1.7523,  0.0743],\n",
       "         [ 2.1193,  1.2659,  0.3731,  ...,  0.1963,  1.1292,  1.5549]],\n",
       "\n",
       "        [[-0.3293,  1.8732,  0.1629,  ...,  1.6224, -0.2687,  0.8724],\n",
       "         [ 1.7015,  0.4258,  0.8971,  ...,  2.6184,  0.1171,  1.3927],\n",
       "         [ 0.2548,  1.1410,  0.8644,  ...,  0.3495, -0.1510,  2.1311],\n",
       "         ...,\n",
       "         [ 2.9619,  1.0646,  2.9761,  ...,  1.6521,  0.2798,  1.4982],\n",
       "         [ 1.0184,  1.7888,  1.7942,  ..., -0.3556, -0.2690,  0.1939],\n",
       "         [ 0.9236, -0.6100,  0.2650,  ...,  0.8967,  0.5792,  1.3118]],\n",
       "\n",
       "        [[ 1.9463,  1.5102,  0.8515,  ...,  1.8449,  1.8115,  0.9801],\n",
       "         [ 0.5054,  1.2875,  0.9433,  ...,  0.6772,  1.5399,  1.0536],\n",
       "         [-0.2960,  1.4783,  1.5832,  ...,  0.3454,  2.7428,  0.0605],\n",
       "         ...,\n",
       "         [-0.6097,  1.6640,  1.8774,  ...,  1.0284,  1.2890, -1.1780],\n",
       "         [ 1.2007,  0.2549,  2.0207,  ...,  0.8514,  1.8299,  1.2227],\n",
       "         [ 1.2512,  0.8958, -0.1415,  ...,  1.3113, -0.3764, -0.5692]]])"
      ]
     },
     "execution_count": 38,
     "metadata": {},
     "output_type": "execute_result"
    }
   ],
   "source": [
    "#First image at timestep t\n",
    "x_t[0]"
   ]
  },
  {
   "cell_type": "code",
   "execution_count": 39,
   "id": "e3baf655",
   "metadata": {},
   "outputs": [
    {
     "data": {
      "text/plain": [
       "tensor([[[ 0.2941,  1.8733,  1.5471,  ...,  0.0845,  0.4996, -0.0220],\n",
       "         [ 1.9915,  0.1635,  0.1234,  ...,  1.1023,  1.2290,  1.1644],\n",
       "         [ 0.9797,  2.3863, -0.4507,  ...,  3.7916, -0.4039,  0.4625],\n",
       "         ...,\n",
       "         [ 0.6933,  0.7798,  2.2762,  ..., -0.4889, -0.5221,  0.3263],\n",
       "         [ 0.5038,  0.0820,  0.8328,  ...,  1.7976,  2.2684, -0.0823],\n",
       "         [ 0.9026,  1.0528, -0.4878,  ...,  0.7485,  0.3657,  1.3284]],\n",
       "\n",
       "        [[ 1.9576,  0.3182,  3.7878,  ...,  1.4561,  0.6093,  3.0948],\n",
       "         [ 1.2906,  0.9960,  1.9799,  ...,  0.9066,  0.9593,  1.2625],\n",
       "         [ 1.7193,  1.8952,  2.5678,  ...,  1.4027, -0.5155,  2.0632],\n",
       "         ...,\n",
       "         [ 0.3575, -0.4833,  0.4658,  ...,  1.6573,  1.4969,  2.2261],\n",
       "         [ 1.2979, -0.6047,  0.2643,  ...,  2.0538,  2.3118,  0.3647],\n",
       "         [ 1.4946,  2.4862,  0.1686,  ..., -0.8368,  2.4225,  1.3607]],\n",
       "\n",
       "        [[-0.7443,  0.2464,  1.1697,  ..., -0.0723,  1.8251,  1.3743],\n",
       "         [ 0.6812,  1.0409,  1.7015,  ...,  1.7137,  2.8052,  0.7290],\n",
       "         [ 2.5142,  1.7486,  2.1175,  ...,  1.0404,  1.8939,  3.9063],\n",
       "         ...,\n",
       "         [ 2.7855,  0.4201, -0.9300,  ...,  1.3813,  2.8308,  0.4937],\n",
       "         [-0.1237,  1.1040, -1.1204,  ..., -0.3181,  1.7480,  1.0554],\n",
       "         [ 1.7909, -0.3495, -0.1091,  ..., -0.3236,  0.3675, -0.6801]]])"
      ]
     },
     "execution_count": 39,
     "metadata": {},
     "output_type": "execute_result"
    }
   ],
   "source": [
    "#Second image at timestep t\n",
    "x_t[1]"
   ]
  }
 ],
 "metadata": {
  "kernelspec": {
   "display_name": "Python 3 (ipykernel)",
   "language": "python",
   "name": "python3"
  },
  "language_info": {
   "codemirror_mode": {
    "name": "ipython",
    "version": 3
   },
   "file_extension": ".py",
   "mimetype": "text/x-python",
   "name": "python",
   "nbconvert_exporter": "python",
   "pygments_lexer": "ipython3",
   "version": "3.11.5"
  }
 },
 "nbformat": 4,
 "nbformat_minor": 5
}
